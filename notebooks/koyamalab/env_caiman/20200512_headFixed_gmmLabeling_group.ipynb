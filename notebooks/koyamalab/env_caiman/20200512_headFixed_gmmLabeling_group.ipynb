{
 "cells": [
  {
   "cell_type": "code",
   "execution_count": 421,
   "metadata": {},
   "outputs": [
    {
     "name": "stdout",
     "output_type": "stream",
     "text": [
      "The autoreload extension is already loaded. To reload it, use:\n",
      "  %reload_ext autoreload\n",
      "Wed May 13 00:12:10 2020\n"
     ]
    }
   ],
   "source": [
    "#%% Import relevant code\n",
    "import os, sys, time\n",
    "import numpy as np\n",
    "import matplotlib.pyplot as plt\n",
    "import pandas as pd\n",
    "import re\n",
    "import dask\n",
    "import dask.dataframe as dd\n",
    "import h5py\n",
    "import pandas as pd\n",
    "pd.options.display.precision=2\n",
    "from skimage.util import montage\n",
    "import glob\n",
    "import joblib\n",
    "from plotly import graph_objects as go\n",
    "\n",
    "#--- Import my code\n",
    "codeDir = r'\\\\dm11\\koyamalab\\code\\python\\code'\n",
    "sys.path.append(codeDir)\n",
    "import apCode.FileTools as ft\n",
    "import apCode.volTools as volt\n",
    "from apCode.machineLearning import ml as mlearn\n",
    "from apCode.behavior import gmm as GMM\n",
    "import apCode.SignalProcessingTools as spt\n",
    "from apCode.behavior import FreeSwimBehavior as fsb\n",
    "import apCode.hdf as hdf\n",
    "from apCode import util\n",
    "from rsNeuronsProj import util as rsp\n",
    "import apCode.behavior.headFixed as hf\n",
    "\n",
    "#--- Setting seed for reproducability\n",
    "seed = 143\n",
    "np.random.seed = seed\n",
    "\n",
    "plt.rcParams['pdf.fonttype'] = 42\n",
    "plt.rcParams['ps.fonttype'] = 42\n",
    "\n",
    "\n",
    "#--- Auto-reload modules\n",
    "try:\n",
    "    if __IPYTHON__:\n",
    "        get_ipython().magic('load_ext autoreload')\n",
    "        get_ipython().magic('autoreload 2')\n",
    "except NameError:\n",
    "    pass\n",
    "\n",
    "print(time.ctime())\n"
   ]
  },
  {
   "cell_type": "markdown",
   "metadata": {},
   "source": [
    "### *Read xls with paths to data*"
   ]
  },
  {
   "cell_type": "code",
   "execution_count": 117,
   "metadata": {},
   "outputs": [
    {
     "name": "stdout",
     "output_type": "stream",
     "text": [
      "Dataframe dimensions: (19, 13)\n"
     ]
    },
    {
     "data": {
      "text/html": [
       "<div>\n",
       "<style scoped>\n",
       "    .dataframe tbody tr th:only-of-type {\n",
       "        vertical-align: middle;\n",
       "    }\n",
       "\n",
       "    .dataframe tbody tr th {\n",
       "        vertical-align: top;\n",
       "    }\n",
       "\n",
       "    .dataframe thead th {\n",
       "        text-align: right;\n",
       "    }\n",
       "</style>\n",
       "<table border=\"1\" class=\"dataframe\">\n",
       "  <thead>\n",
       "    <tr style=\"text-align: right;\">\n",
       "      <th></th>\n",
       "      <th>Date</th>\n",
       "      <th>Genotype</th>\n",
       "      <th>Time</th>\n",
       "      <th>FishIdx</th>\n",
       "      <th>FishIdxInSession</th>\n",
       "      <th>Path</th>\n",
       "      <th>RoiSet</th>\n",
       "      <th>AllCaImgs</th>\n",
       "      <th>fullDF</th>\n",
       "      <th>QualityBehavior</th>\n",
       "      <th>nPreStimFrames</th>\n",
       "      <th>reTrackBehav</th>\n",
       "      <th>Comments</th>\n",
       "    </tr>\n",
       "  </thead>\n",
       "  <tbody>\n",
       "    <tr>\n",
       "      <th>0</th>\n",
       "      <td>20191106</td>\n",
       "      <td>xa316</td>\n",
       "      <td>2300</td>\n",
       "      <td>0</td>\n",
       "      <td>0.0</td>\n",
       "      <td>\\\\Koyama-S2\\Data3\\Avinash\\Head-fixed tail free...</td>\n",
       "      <td>0</td>\n",
       "      <td>0.0</td>\n",
       "      <td>0.0</td>\n",
       "      <td>6</td>\n",
       "      <td>100</td>\n",
       "      <td>0</td>\n",
       "      <td>Shorter trial length, consider ignoring. Tail ...</td>\n",
       "    </tr>\n",
       "    <tr>\n",
       "      <th>1</th>\n",
       "      <td>20191107</td>\n",
       "      <td>xa316</td>\n",
       "      <td>2200</td>\n",
       "      <td>1</td>\n",
       "      <td>0.0</td>\n",
       "      <td>\\\\Koyama-S2\\Data3\\Avinash\\Head-fixed tail free...</td>\n",
       "      <td>0</td>\n",
       "      <td>0.0</td>\n",
       "      <td>0.0</td>\n",
       "      <td>5</td>\n",
       "      <td>100</td>\n",
       "      <td>0</td>\n",
       "      <td>NaN</td>\n",
       "    </tr>\n",
       "    <tr>\n",
       "      <th>2</th>\n",
       "      <td>20191207</td>\n",
       "      <td>nefma-alx</td>\n",
       "      <td>2400</td>\n",
       "      <td>2</td>\n",
       "      <td>2.0</td>\n",
       "      <td>\\\\Koyama-S2\\Data3\\Avinash\\Head-fixed tail free...</td>\n",
       "      <td>0</td>\n",
       "      <td>0.0</td>\n",
       "      <td>0.0</td>\n",
       "      <td>?</td>\n",
       "      <td>500</td>\n",
       "      <td>0</td>\n",
       "      <td>NaN</td>\n",
       "    </tr>\n",
       "    <tr>\n",
       "      <th>3</th>\n",
       "      <td>20191211</td>\n",
       "      <td>nefma-alx</td>\n",
       "      <td>1800</td>\n",
       "      <td>3</td>\n",
       "      <td>1.0</td>\n",
       "      <td>\\\\Koyama-S2\\Data3\\Avinash\\Head-fixed tail free...</td>\n",
       "      <td>0</td>\n",
       "      <td>0.0</td>\n",
       "      <td>0.0</td>\n",
       "      <td>3</td>\n",
       "      <td>500</td>\n",
       "      <td>0</td>\n",
       "      <td>NaN</td>\n",
       "    </tr>\n",
       "    <tr>\n",
       "      <th>4</th>\n",
       "      <td>20191211</td>\n",
       "      <td>nefma-alx</td>\n",
       "      <td>1930</td>\n",
       "      <td>4</td>\n",
       "      <td>2.0</td>\n",
       "      <td>\\\\Koyama-S2\\Data3\\Avinash\\Head-fixed tail free...</td>\n",
       "      <td>0</td>\n",
       "      <td>0.0</td>\n",
       "      <td>0.0</td>\n",
       "      <td>?</td>\n",
       "      <td>500</td>\n",
       "      <td>1</td>\n",
       "      <td>NaN</td>\n",
       "    </tr>\n",
       "  </tbody>\n",
       "</table>\n",
       "</div>"
      ],
      "text/plain": [
       "       Date   Genotype  Time  FishIdx  FishIdxInSession  \\\n",
       "0  20191106      xa316  2300        0               0.0   \n",
       "1  20191107      xa316  2200        1               0.0   \n",
       "2  20191207  nefma-alx  2400        2               2.0   \n",
       "3  20191211  nefma-alx  1800        3               1.0   \n",
       "4  20191211  nefma-alx  1930        4               2.0   \n",
       "\n",
       "                                                Path  RoiSet  AllCaImgs  \\\n",
       "0  \\\\Koyama-S2\\Data3\\Avinash\\Head-fixed tail free...       0        0.0   \n",
       "1  \\\\Koyama-S2\\Data3\\Avinash\\Head-fixed tail free...       0        0.0   \n",
       "2  \\\\Koyama-S2\\Data3\\Avinash\\Head-fixed tail free...       0        0.0   \n",
       "3  \\\\Koyama-S2\\Data3\\Avinash\\Head-fixed tail free...       0        0.0   \n",
       "4  \\\\Koyama-S2\\Data3\\Avinash\\Head-fixed tail free...       0        0.0   \n",
       "\n",
       "   fullDF QualityBehavior  nPreStimFrames  reTrackBehav  \\\n",
       "0     0.0               6             100             0   \n",
       "1     0.0               5             100             0   \n",
       "2     0.0               ?             500             0   \n",
       "3     0.0               3             500             0   \n",
       "4     0.0               ?             500             1   \n",
       "\n",
       "                                            Comments  \n",
       "0  Shorter trial length, consider ignoring. Tail ...  \n",
       "1                                                NaN  \n",
       "2                                                NaN  \n",
       "3                                                NaN  \n",
       "4                                                NaN  "
      ]
     },
     "execution_count": 117,
     "metadata": {},
     "output_type": "execute_result"
    }
   ],
   "source": [
    "dir_xls = r'\\\\Koyama-S2\\Data3\\Avinash\\Projects\\RS recruitment\\GCaMP imaging'\n",
    "dir_group = r'\\\\Koyama-S2\\Data3\\Avinash\\Projects\\RS recruitment\\GCaMP imaging\\Group'\n",
    "file_xls = 'GCaMP volumetric imaging summary_2020-05-09.xlsx'\n",
    "saveDir = os.path.join(dir_xls, 'Group')\n",
    "os.makedirs(saveDir, exist_ok=True)\n",
    "\n",
    "xls = pd.read_excel(os.path.join(dir_xls, file_xls), sheet_name='Sheet1')\n",
    "print(f'Dataframe dimensions: {xls.shape}')\n",
    "xls.head()"
   ]
  },
  {
   "cell_type": "markdown",
   "metadata": {},
   "source": [
    "### *Read tail angles from all the HDF files*"
   ]
  },
  {
   "cell_type": "code",
   "execution_count": 90,
   "metadata": {},
   "outputs": [
    {
     "name": "stdout",
     "output_type": "stream",
     "text": [
      "1/19\n",
      "2/19\n",
      "3/19\n",
      "4/19\n",
      "5/19\n",
      "6/19\n",
      "7/19\n",
      "8/19\n",
      "9/19\n",
      "10/19\n",
      "12/19\n",
      "13/19\n",
      "14/19\n",
      "15/19\n",
      "16/19\n",
      "17/19\n",
      "18/19\n",
      "19/19\n",
      "Dataframe dimensions: (645, 6), \n",
      "columns = Index(['fishIdx', 'path', 'trlIdx', 'tailAngles', 'stimLoc', 'sessionIdx'], dtype='object')\n",
      "Wall time: 9.12 s\n"
     ]
    }
   ],
   "source": [
    "%%time \n",
    "changePath = lambda path: path.replace(r\"Y:\", r\"\\\\Koyama-S2\\Data3\")\n",
    "pathList = np.array(list(map(changePath, xls.Path)))\n",
    "\n",
    "df = dict(fishIdx=[], path=[], trlIdx=[], tailAngles=[], stimLoc=[], sessionIdx=[])\n",
    "for iPath, path_ in enumerate(pathList):\n",
    "    hfp = glob.glob(os.path.join(path_, 'procData*.h5'))[-1]\n",
    "    with h5py.File(hfp, mode='r') as hFile:\n",
    "        if 'behav/stimLoc' in hFile:\n",
    "            print(f'{iPath+1}/{len(pathList)}')\n",
    "            ta = np.array(hFile['behav/tailAngles'])\n",
    "            nTrls = ta.shape[0]//50\n",
    "            ta_trl = np.vsplit(ta, nTrls)            \n",
    "            sl = util.to_utf(np.array(hFile['behav/stimLoc']))\n",
    "            stim = [_[-1] for _ in sl]\n",
    "            session = [int(_.split(\"_\")[0])-1 for _ in sl]\n",
    "            path_ = util.to_ascii(np.repeat(hfp, nTrls))\n",
    "            df['tailAngles'].extend(ta_trl)\n",
    "            df['fishIdx'].extend(np.repeat(iPath, nTrls))\n",
    "            df['path'].extend(path_)\n",
    "            df['trlIdx'].extend(np.arange(nTrls))\n",
    "            df['sessionIdx'].extend(session)\n",
    "            df['stimLoc'].extend(stim)\n",
    "df = pd.DataFrame(df)\n",
    "print(f'Dataframe dimensions: {df.shape}, \\ncolumns = {df.columns}') \n",
    "            \n"
   ]
  },
  {
   "cell_type": "markdown",
   "metadata": {},
   "source": [
    "### *Save dataframe with behavior info from all fish*"
   ]
  },
  {
   "cell_type": "code",
   "execution_count": 104,
   "metadata": {},
   "outputs": [
    {
     "name": "stdout",
     "output_type": "stream",
     "text": [
      "Wall time: 4.4 s\n"
     ]
    }
   ],
   "source": [
    "fn = f'dataframe_headFixed_gCamp_behavior_{util.timestamp(\"day\")}.pkl'\n",
    "%time df.to_pickle(os.path.join(saveDir, fn))\n"
   ]
  },
  {
   "cell_type": "markdown",
   "metadata": {},
   "source": [
    "### *Reload dataframe if resuming from here*"
   ]
  },
  {
   "cell_type": "code",
   "execution_count": 108,
   "metadata": {},
   "outputs": [
    {
     "name": "stdout",
     "output_type": "stream",
     "text": [
      "Wall time: 1.07 s\n"
     ]
    }
   ],
   "source": [
    "path_df = glob.glob(os.path.join(saveDir, 'dataframe_headFixed_gCamp_behavior*.pkl'))[-1]\n",
    "%time df = pd.read_pickle(path_df)"
   ]
  },
  {
   "cell_type": "markdown",
   "metadata": {},
   "source": [
    "### *Create a GMM object and fit to data*"
   ]
  },
  {
   "cell_type": "code",
   "execution_count": 188,
   "metadata": {},
   "outputs": [
    {
     "name": "stdout",
     "output_type": "stream",
     "text": [
      "Peaks are 10.8% of all samples\n",
      "Wall time: 4min 36s\n"
     ]
    }
   ],
   "source": [
    "pca_percVar=0.99\n",
    "\n",
    "ta_orig = np.concatenate([np.array(_) for _ in df.tailAngles], axis=1)\n",
    "%time gmm_model = GMM.SvdGmm(pca_percVar=pca_percVar, pk_thr=5).fit(ta_orig)\n"
   ]
  },
  {
   "cell_type": "markdown",
   "metadata": {},
   "source": [
    "### *Save the GMM object for future use; no need to save the SVD, PCA or Scaler objects separately because they are not attributes of the GMM object*"
   ]
  },
  {
   "cell_type": "code",
   "execution_count": 204,
   "metadata": {},
   "outputs": [
    {
     "name": "stdout",
     "output_type": "stream",
     "text": [
      "Wall time: 19 ms\n",
      "\\\\Koyama-S2\\Data3\\Avinash\\Projects\\RS recruitment\\GCaMP imaging\\Group\\gmm_headFixed_[20]_svd_[3]_env_pca_[16]_20200511.pkl\n"
     ]
    }
   ],
   "source": [
    "n_gmm, n_svd, n_pca = gmm_model.n_gmm_, gmm_model.n_svd_, gmm_model.pca.n_components_\n",
    "fn = f'gmm_headFixed_[{n_gmm}]_svd_[{n_svd}]_env_pca_[{n_pca}]_{util.timestamp(\"day\")}.pkl'\n",
    "%time path_gmm = joblib.dump(gmm_model, os.path.join(saveDir, fn))[0];\n",
    "print(path_gmm)"
   ]
  },
  {
   "cell_type": "markdown",
   "metadata": {},
   "source": [
    "### *Load the GMM model if resuming from here*"
   ]
  },
  {
   "cell_type": "code",
   "execution_count": 205,
   "metadata": {},
   "outputs": [],
   "source": [
    "path_gmm = glob.glob(os.path.join(saveDir, 'gmm_headFixed_*.pkl'))[-1]\n",
    "gmm_model = joblib.load(path_gmm)"
   ]
  },
  {
   "cell_type": "markdown",
   "metadata": {},
   "source": [
    "### *Use the SVD object from the GMM object to clean tail angles* "
   ]
  },
  {
   "cell_type": "code",
   "execution_count": 206,
   "metadata": {},
   "outputs": [
    {
     "name": "stdout",
     "output_type": "stream",
     "text": [
      "Cleaning...\n",
      "Wall time: 1min 46s\n"
     ]
    }
   ],
   "source": [
    "ta_orig = np.concatenate([np.array(_) for _ in df.tailAngles], axis=1)\n",
    "\n",
    "print('Cleaning...')\n",
    "%time ta, _, svd = hf.cleanTailAngles(ta_orig, svd=gmm_model.svd)\n"
   ]
  },
  {
   "cell_type": "markdown",
   "metadata": {},
   "source": [
    "### *Make interactive plots of some example trials with GMM labels overlaid and save in specified directory*"
   ]
  },
  {
   "cell_type": "code",
   "execution_count": null,
   "metadata": {},
   "outputs": [],
   "source": [
    "trlLens = np.array([_.shape[1] for _ in df.tailAngles])\n",
    "ta_trl = np.hsplit(ta, np.cumsum(trlLens))[:-1]\n",
    "\n",
    "figDir = os.path.join(saveDir, 'Figs', 'Trials with GMM labels')\n",
    "os.makedirs(figDir, exist_ok=True)\n",
    "\n",
    "\n",
    "# ind = np.random.choice(range(len(ta_trl)), size=1)[0]\n",
    "for ind in range(len(ta_trl)):\n",
    "    t = np.arange(ta_trl[ind].shape[1])*(1/500)\n",
    "    path_ = util.to_utf([df.iloc[ind].path])[0].replace(\"\\\\\", \"/\")\n",
    "    title = f'session-{df.iloc[ind].sessionIdx}_trl-{df.iloc[ind].trlIdx}_stim-{df.iloc[ind].stimLoc}'\n",
    "    title = title + f'_{path_}'\n",
    "\n",
    "    fig = gmm_model.plot_with_labels_interact(ta_trl[ind], x=t, title=title)\n",
    "\n",
    "    fig.write_html(os.path.join(figDir, f'Trl-{ind}_with GMM labels.html'))\n",
    "    print(f'Trl {ind} saved at \\n{figDir}')"
   ]
  },
  {
   "cell_type": "code",
   "execution_count": 662,
   "metadata": {},
   "outputs": [
    {
     "name": "stdout",
     "output_type": "stream",
     "text": [
      "Trl 1/44\n",
      "Trl 2/44\n",
      "Trl 3/44\n",
      "Trl 4/44\n",
      "Trl 5/44\n",
      "Trl 6/44\n",
      "Trl 7/44\n",
      "Trl 8/44\n",
      "Trl 9/44\n",
      "Trl 10/44\n",
      "Trl 11/44\n",
      "Trl 12/44\n",
      "Trl 13/44\n",
      "Trl 14/44\n",
      "Trl 15/44\n",
      "Trl 16/44\n",
      "Trl 17/44\n",
      "Trl 18/44\n",
      "Trl 19/44\n",
      "Trl 20/44\n",
      "Trl 21/44\n",
      "Trl 22/44\n",
      "Trl 23/44\n",
      "Trl 24/44\n",
      "Trl 25/44\n",
      "Trl 26/44\n",
      "Trl 27/44\n",
      "Trl 28/44\n",
      "Trl 29/44\n",
      "Trl 30/44\n",
      "Trl 31/44\n",
      "Trl 32/44\n",
      "Trl 33/44\n",
      "Trl 34/44\n",
      "Trl 35/44\n",
      "Trl 36/44\n",
      "Trl 37/44\n",
      "Trl 38/44\n",
      "Trl 39/44\n",
      "Trl 40/44\n",
      "Trl 41/44\n",
      "Trl 42/44\n",
      "Trl 43/44\n",
      "Trl 44/44\n"
     ]
    }
   ],
   "source": [
    "noisyDir = r'Y:\\Avinash\\Projects\\RS recruitment\\GCaMP imaging\\Group\\Figs\\Trials with GMM labels\\noisy'\n",
    "regex = r'\\d{1,}'\n",
    "\n",
    "\n",
    "def get_behav_img_dir(df, trl):\n",
    "    path = os.path.split(df.iloc[trl].path)[0]\n",
    "    path = util.to_utf([path])[0]\n",
    "    stim = df.iloc[trl].stimLoc\n",
    "    session = df.iloc[trl].sessionIdx\n",
    "    trlIdx = df.iloc[trl].trlIdx\n",
    "#     regex = r'{}\\\\behav\\\\Autosave'.format(stim)\n",
    "    regex = r'[ht]\\\\behav\\\\Autosave'.format(stim)\n",
    "    \n",
    "    trlDirs = [out[0] for out in os.walk(path) if re.search(regex, out[0])]\n",
    "    trlDir = trlDirs[trlIdx]\n",
    "    return trlDir\n",
    "\n",
    "# Get trial indices for noisy trials from files in the noisy directory\n",
    "fnames = ft.findAndSortFilesInDir(noisyDir, ext='html')\n",
    "\n",
    "trls = np.array([int(re.findall(regex, fn)[0]) for fn in fnames])\n",
    "\n",
    "# Now find the image containing folder corresponding to trials\n",
    "trlDirs = []\n",
    "for iTrl, trl in enumerate(trls):\n",
    "    print(f'Trl {iTrl+1}/{len(trls)}')\n",
    "    trlDir = get_behav_img_dir(df, trl)\n",
    "    trlDirs.append(trlDir)\n",
    "    \n"
   ]
  },
  {
   "cell_type": "code",
   "execution_count": 675,
   "metadata": {},
   "outputs": [],
   "source": [
    "path_ = os.path.join(figDir, 'noisyTrlPaths.npy')\n",
    "foo = dict(trlIdx_glob=trls, trlDir=np.array(trlDirs))\n",
    "np.save(path_, foo)"
   ]
  },
  {
   "cell_type": "code",
   "execution_count": null,
   "metadata": {},
   "outputs": [],
   "source": []
  },
  {
   "cell_type": "code",
   "execution_count": null,
   "metadata": {},
   "outputs": [],
   "source": []
  },
  {
   "cell_type": "code",
   "execution_count": null,
   "metadata": {},
   "outputs": [],
   "source": []
  },
  {
   "cell_type": "code",
   "execution_count": null,
   "metadata": {},
   "outputs": [],
   "source": []
  },
  {
   "cell_type": "code",
   "execution_count": 540,
   "metadata": {},
   "outputs": [
    {
     "data": {
      "text/plain": [
       "\u001b[1;31mSignature:\u001b[0m\n",
       "\u001b[0mhf\u001b[0m\u001b[1;33m.\u001b[0m\u001b[0mextractAndStoreBehaviorData_singleFish\u001b[0m\u001b[1;33m(\u001b[0m\u001b[1;33m\n",
       "\u001b[0m    \u001b[0mfishPath\u001b[0m\u001b[1;33m,\u001b[0m\u001b[1;33m\n",
       "\u001b[0m    \u001b[0muNet\u001b[0m\u001b[1;33m=\u001b[0m\u001b[1;32mNone\u001b[0m\u001b[1;33m,\u001b[0m\u001b[1;33m\n",
       "\u001b[0m    \u001b[0mhFilePath\u001b[0m\u001b[1;33m=\u001b[0m\u001b[1;32mNone\u001b[0m\u001b[1;33m,\u001b[0m\u001b[1;33m\n",
       "\u001b[0m    \u001b[0mregex\u001b[0m\u001b[1;33m=\u001b[0m\u001b[1;34m'\\\\d{1,5}_[ht]'\u001b[0m\u001b[1;33m,\u001b[0m\u001b[1;33m\n",
       "\u001b[0m    \u001b[0mimgExt\u001b[0m\u001b[1;33m=\u001b[0m\u001b[1;34m'bmp'\u001b[0m\u001b[1;33m,\u001b[0m\u001b[1;33m\n",
       "\u001b[0m    \u001b[1;33m**\u001b[0m\u001b[0munet_kwargs\u001b[0m\u001b[1;33m,\u001b[0m\u001b[1;33m\n",
       "\u001b[0m\u001b[1;33m)\u001b[0m\u001b[1;33m\u001b[0m\u001b[1;33m\u001b[0m\u001b[0m\n",
       "\u001b[1;31mSource:\u001b[0m   \n",
       "\u001b[1;32mdef\u001b[0m \u001b[0mextractAndStoreBehaviorData_singleFish\u001b[0m\u001b[1;33m(\u001b[0m\u001b[0mfishPath\u001b[0m\u001b[1;33m,\u001b[0m \u001b[0muNet\u001b[0m\u001b[1;33m=\u001b[0m\u001b[1;32mNone\u001b[0m\u001b[1;33m,\u001b[0m \u001b[0mhFilePath\u001b[0m\u001b[1;33m=\u001b[0m\u001b[1;32mNone\u001b[0m\u001b[1;33m,\u001b[0m\u001b[1;33m\n",
       "\u001b[0m                                           \u001b[0mregex\u001b[0m\u001b[1;33m=\u001b[0m\u001b[1;34mr'\\d{1,5}_[ht]'\u001b[0m\u001b[1;33m,\u001b[0m\u001b[1;33m\n",
       "\u001b[0m                                           \u001b[0mimgExt\u001b[0m\u001b[1;33m=\u001b[0m\u001b[1;34m'bmp'\u001b[0m\u001b[1;33m,\u001b[0m \u001b[1;33m**\u001b[0m\u001b[0munet_kwargs\u001b[0m\u001b[1;33m)\u001b[0m\u001b[1;33m:\u001b[0m\u001b[1;33m\n",
       "\u001b[0m    \u001b[1;34m\"\"\"\n",
       "    Parameters\n",
       "    ----------\n",
       "    fishPath: str\n",
       "        Path to a fish data.\n",
       "    uNet: U-net object (HDF file with stored parameters) or None\n",
       "        If None, then searches for U-net in the fish path by looking for\n",
       "        files with \".h5\" extension and name containing with \"trainedU\".\n",
       "    hFilePath: str or None\n",
       "        Full path to HDF file where data is to be stored. If None, looks for an\n",
       "        existing HDF file in fishPath. Assumes the file will have \".h5\"\n",
       "        extension and name that contains \"procData\".\n",
       "    regex: str\n",
       "        Regular expression for finding head and tail stimulation folders.\n",
       "        For e.g., \"001_h\", \"002_t\", etc.\n",
       "    imgExt: str\n",
       "        Extension of the behavior image files.\n",
       "    **unet_kwargs: e.g. batch_size; see unet.predict\n",
       "    Returns\n",
       "    -------\n",
       "    hFilePath: Full path to the HDF file object where behavior data is stored\n",
       "    under the group name \"/behav\".\n",
       "        The following datasets can be found in the group.\n",
       "        \"/behav/images_prob\": array, (nTimePoints, nRows, nCols)\n",
       "            Probability images generated by the U-net\n",
       "        \"/behav/midlines_interp\": array, (nTimePoints, nPointsAlongFish, 2)\n",
       "            Interpolated midlines.\n",
       "        \"/behav/tailAngles\": array, (nTimePoints, nPointsAlongFish, 2)\n",
       "            Tangent angles (cumulative curvatures) along the length of the\n",
       "            fish.\n",
       "    \"\"\"\u001b[0m\u001b[1;33m\n",
       "\u001b[0m    \u001b[1;32mimport\u001b[0m \u001b[0mre\u001b[0m\u001b[1;33m\n",
       "\u001b[0m    \u001b[1;32mfrom\u001b[0m \u001b[0mapCode\u001b[0m\u001b[1;33m.\u001b[0m\u001b[0mmachineLearning\u001b[0m \u001b[1;32mimport\u001b[0m \u001b[0mml\u001b[0m \u001b[1;32mas\u001b[0m \u001b[0mmlearn\u001b[0m\u001b[1;33m\n",
       "\u001b[0m    \u001b[1;32mimport\u001b[0m \u001b[0mapCode\u001b[0m\u001b[1;33m.\u001b[0m\u001b[0mbehavior\u001b[0m\u001b[1;33m.\u001b[0m\u001b[0mheadFixed\u001b[0m \u001b[1;32mas\u001b[0m \u001b[0mhf\u001b[0m\u001b[1;33m\n",
       "\u001b[0m    \u001b[1;32mfrom\u001b[0m \u001b[0mapCode\u001b[0m \u001b[1;32mimport\u001b[0m \u001b[0mhdf\u001b[0m\u001b[1;33m\n",
       "\u001b[0m    \u001b[0msubDirs\u001b[0m \u001b[1;33m=\u001b[0m \u001b[1;33m[\u001b[0m\u001b[0mos\u001b[0m\u001b[1;33m.\u001b[0m\u001b[0mpath\u001b[0m\u001b[1;33m.\u001b[0m\u001b[0mjoin\u001b[0m\u001b[1;33m(\u001b[0m\u001b[0mfishPath\u001b[0m\u001b[1;33m,\u001b[0m \u001b[0msd\u001b[0m\u001b[1;33m)\u001b[0m \u001b[1;32mfor\u001b[0m \u001b[0msd\u001b[0m \u001b[1;32min\u001b[0m \u001b[0mft\u001b[0m\u001b[1;33m.\u001b[0m\u001b[0msubDirsInDir\u001b[0m\u001b[1;33m(\u001b[0m\u001b[0mfishPath\u001b[0m\u001b[1;33m)\u001b[0m\u001b[1;33m\n",
       "\u001b[0m               \u001b[1;32mif\u001b[0m \u001b[0mre\u001b[0m\u001b[1;33m.\u001b[0m\u001b[0mmatch\u001b[0m\u001b[1;33m(\u001b[0m\u001b[0mregex\u001b[0m\u001b[1;33m,\u001b[0m \u001b[0msd\u001b[0m\u001b[1;33m)\u001b[0m\u001b[1;33m]\u001b[0m\u001b[1;33m\n",
       "\u001b[0m\u001b[1;31m#    nDirs = len(subDirs)\u001b[0m\u001b[1;33m\n",
       "\u001b[0m    \u001b[1;32mif\u001b[0m \u001b[0mhFilePath\u001b[0m \u001b[1;32mis\u001b[0m \u001b[1;32mNone\u001b[0m\u001b[1;33m:\u001b[0m\u001b[1;33m\n",
       "\u001b[0m        \u001b[0mfn\u001b[0m \u001b[1;33m=\u001b[0m \u001b[0mft\u001b[0m\u001b[1;33m.\u001b[0m\u001b[0mfindAndSortFilesInDir\u001b[0m\u001b[1;33m(\u001b[0m\u001b[0mfishPath\u001b[0m\u001b[1;33m,\u001b[0m \u001b[0mext\u001b[0m\u001b[1;33m=\u001b[0m\u001b[1;34m'h5'\u001b[0m\u001b[1;33m,\u001b[0m\u001b[1;33m\n",
       "\u001b[0m                                      \u001b[0msearch_str\u001b[0m\u001b[1;33m=\u001b[0m\u001b[1;34m'procData'\u001b[0m\u001b[1;33m)\u001b[0m\u001b[1;33m\n",
       "\u001b[0m        \u001b[1;32mif\u001b[0m \u001b[0mlen\u001b[0m\u001b[1;33m(\u001b[0m\u001b[0mfn\u001b[0m\u001b[1;33m)\u001b[0m \u001b[1;33m>\u001b[0m \u001b[1;36m0\u001b[0m\u001b[1;33m:\u001b[0m\u001b[1;33m\n",
       "\u001b[0m            \u001b[0mfn\u001b[0m \u001b[1;33m=\u001b[0m \u001b[0mfn\u001b[0m\u001b[1;33m[\u001b[0m\u001b[1;33m-\u001b[0m\u001b[1;36m1\u001b[0m\u001b[1;33m]\u001b[0m\u001b[1;33m\n",
       "\u001b[0m            \u001b[0mhFileName\u001b[0m \u001b[1;33m=\u001b[0m \u001b[0mfn\u001b[0m\u001b[1;33m\n",
       "\u001b[0m        \u001b[1;32melse\u001b[0m\u001b[1;33m:\u001b[0m\u001b[1;33m\n",
       "\u001b[0m            \u001b[0mhFileName\u001b[0m \u001b[1;33m=\u001b[0m \u001b[1;34mf'procData_{util.timestamp()}.h5'\u001b[0m\u001b[1;33m\n",
       "\u001b[0m        \u001b[0mhFilePath\u001b[0m \u001b[1;33m=\u001b[0m \u001b[0mos\u001b[0m\u001b[1;33m.\u001b[0m\u001b[0mpath\u001b[0m\u001b[1;33m.\u001b[0m\u001b[0mjoin\u001b[0m\u001b[1;33m(\u001b[0m\u001b[0mfishPath\u001b[0m\u001b[1;33m,\u001b[0m \u001b[0mhFileName\u001b[0m\u001b[1;33m)\u001b[0m\u001b[1;33m\n",
       "\u001b[0m    \u001b[1;32mif\u001b[0m \u001b[0muNet\u001b[0m \u001b[1;32mis\u001b[0m \u001b[1;32mNone\u001b[0m\u001b[1;33m:\u001b[0m\u001b[1;33m\n",
       "\u001b[0m        \u001b[0muNet\u001b[0m \u001b[1;33m=\u001b[0m \u001b[0mmlearn\u001b[0m\u001b[1;33m.\u001b[0m\u001b[0mloadPreTrainedUnet\u001b[0m\u001b[1;33m(\u001b[0m\u001b[1;32mNone\u001b[0m\u001b[1;33m,\u001b[0m \u001b[0msearch_dir\u001b[0m\u001b[1;33m=\u001b[0m\u001b[0mfishPath\u001b[0m\u001b[1;33m)\u001b[0m\u001b[1;33m\n",
       "\u001b[0m    \u001b[0mstimLoc\u001b[0m \u001b[1;33m=\u001b[0m \u001b[1;33m[\u001b[0m\u001b[1;33m]\u001b[0m\u001b[1;33m\n",
       "\u001b[0m\u001b[1;31m#    expr = '_[h|t]$'\u001b[0m\u001b[1;33m\n",
       "\u001b[0m    \u001b[1;32mwith\u001b[0m \u001b[0mh5py\u001b[0m\u001b[1;33m.\u001b[0m\u001b[0mFile\u001b[0m\u001b[1;33m(\u001b[0m\u001b[0mhFilePath\u001b[0m\u001b[1;33m,\u001b[0m \u001b[0mmode\u001b[0m\u001b[1;33m=\u001b[0m\u001b[1;34m'a'\u001b[0m\u001b[1;33m)\u001b[0m \u001b[1;32mas\u001b[0m \u001b[0mhFile\u001b[0m\u001b[1;33m:\u001b[0m\u001b[1;33m\n",
       "\u001b[0m        \u001b[1;32mfor\u001b[0m \u001b[0miSub\u001b[0m\u001b[1;33m,\u001b[0m \u001b[0msd\u001b[0m \u001b[1;32min\u001b[0m \u001b[0menumerate\u001b[0m\u001b[1;33m(\u001b[0m\u001b[0msubDirs\u001b[0m\u001b[1;33m)\u001b[0m\u001b[1;33m:\u001b[0m\u001b[1;33m\n",
       "\u001b[0m            \u001b[0msd_now\u001b[0m \u001b[1;33m=\u001b[0m \u001b[0mos\u001b[0m\u001b[1;33m.\u001b[0m\u001b[0mpath\u001b[0m\u001b[1;33m.\u001b[0m\u001b[0msplit\u001b[0m\u001b[1;33m(\u001b[0m\u001b[0msd\u001b[0m\u001b[1;33m)\u001b[0m\u001b[1;33m[\u001b[0m\u001b[1;33m-\u001b[0m\u001b[1;36m1\u001b[0m\u001b[1;33m]\u001b[0m\u001b[1;33m\n",
       "\u001b[0m\u001b[1;31m#            hort = re.findall(expr, sd_now)[0][-1]\u001b[0m\u001b[1;33m\n",
       "\u001b[0m            \u001b[0mroots\u001b[0m\u001b[1;33m,\u001b[0m \u001b[0mdirs\u001b[0m\u001b[1;33m,\u001b[0m \u001b[0mfiles\u001b[0m \u001b[1;33m=\u001b[0m \u001b[0mzip\u001b[0m\u001b[1;33m(\u001b[0m\u001b[1;33m*\u001b[0m\u001b[1;33m[\u001b[0m\u001b[0mout\u001b[0m \u001b[1;32mfor\u001b[0m \u001b[0mout\u001b[0m \u001b[1;32min\u001b[0m \u001b[0mos\u001b[0m\u001b[1;33m.\u001b[0m\u001b[0mwalk\u001b[0m\u001b[1;33m(\u001b[0m\u001b[0msd\u001b[0m\u001b[1;33m)\u001b[0m\u001b[1;33m]\u001b[0m\u001b[1;33m)\u001b[0m\u001b[1;33m\n",
       "\u001b[0m            \u001b[0minds\u001b[0m \u001b[1;33m=\u001b[0m \u001b[0mutil\u001b[0m\u001b[1;33m.\u001b[0m\u001b[0mfindStrInList\u001b[0m\u001b[1;33m(\u001b[0m\u001b[1;34m'Autosave'\u001b[0m\u001b[1;33m,\u001b[0m \u001b[0mroots\u001b[0m\u001b[1;33m)\u001b[0m\u001b[1;33m\n",
       "\u001b[0m            \u001b[0mbehavDirs\u001b[0m \u001b[1;33m=\u001b[0m \u001b[0mnp\u001b[0m\u001b[1;33m.\u001b[0m\u001b[0marray\u001b[0m\u001b[1;33m(\u001b[0m\u001b[0mroots\u001b[0m\u001b[1;33m)\u001b[0m\u001b[1;33m[\u001b[0m\u001b[0minds\u001b[0m\u001b[1;33m]\u001b[0m\u001b[1;33m\n",
       "\u001b[0m            \u001b[0mnTrls\u001b[0m \u001b[1;33m=\u001b[0m \u001b[0mlen\u001b[0m\u001b[1;33m(\u001b[0m\u001b[0minds\u001b[0m\u001b[1;33m)\u001b[0m\u001b[1;33m\n",
       "\u001b[0m            \u001b[0mprint\u001b[0m\u001b[1;33m(\u001b[0m\u001b[1;34mf'{nTrls} behavior directories found in {sd}'\u001b[0m\u001b[1;33m)\u001b[0m\u001b[1;33m\n",
       "\u001b[0m            \u001b[0mstimLoc\u001b[0m\u001b[1;33m.\u001b[0m\u001b[0mextend\u001b[0m\u001b[1;33m(\u001b[0m\u001b[0mnp\u001b[0m\u001b[1;33m.\u001b[0m\u001b[0mrepeat\u001b[0m\u001b[1;33m(\u001b[0m\u001b[0msd_now\u001b[0m\u001b[1;33m,\u001b[0m \u001b[0mnTrls\u001b[0m\u001b[1;33m)\u001b[0m\u001b[1;33m)\u001b[0m\u001b[1;33m\n",
       "\u001b[0m            \u001b[1;31m# stimLoc.extend([sd_now]*nTrls)\u001b[0m\u001b[1;33m\n",
       "\u001b[0m            \u001b[0mkeys\u001b[0m \u001b[1;33m=\u001b[0m \u001b[1;33m[\u001b[0m\u001b[1;34m'images_fish'\u001b[0m\u001b[1;33m,\u001b[0m \u001b[1;34m'midlines'\u001b[0m\u001b[1;33m,\u001b[0m \u001b[1;34m'inds_kept_midlines'\u001b[0m\u001b[1;33m,\u001b[0m\u001b[1;33m\n",
       "\u001b[0m                    \u001b[1;34m'tailAngles'\u001b[0m\u001b[1;33m]\u001b[0m\u001b[1;33m\n",
       "\u001b[0m            \u001b[1;32mfor\u001b[0m \u001b[0miTrl\u001b[0m\u001b[1;33m,\u001b[0m \u001b[0mbd\u001b[0m \u001b[1;32min\u001b[0m \u001b[0menumerate\u001b[0m\u001b[1;33m(\u001b[0m\u001b[0mbehavDirs\u001b[0m\u001b[1;33m)\u001b[0m\u001b[1;33m:\u001b[0m\u001b[1;33m\n",
       "\u001b[0m                \u001b[0mprint\u001b[0m\u001b[1;33m(\u001b[0m\u001b[1;34mf'Trl # {iTrl+1}/{nTrls}'\u001b[0m\u001b[1;33m)\u001b[0m\u001b[1;33m\n",
       "\u001b[0m                \u001b[0mout\u001b[0m \u001b[1;33m=\u001b[0m \u001b[0mhf\u001b[0m\u001b[1;33m.\u001b[0m\u001b[0mtailAnglesFromRawImagesUsingUnet\u001b[0m\u001b[1;33m(\u001b[0m\u001b[0mbehavDirs\u001b[0m\u001b[1;33m[\u001b[0m\u001b[0miTrl\u001b[0m\u001b[1;33m]\u001b[0m\u001b[1;33m,\u001b[0m\u001b[1;33m\n",
       "\u001b[0m                                                          \u001b[0muNet\u001b[0m\u001b[1;33m,\u001b[0m \u001b[1;33m**\u001b[0m\u001b[0munet_kwargs\u001b[0m\u001b[1;33m)\u001b[0m\u001b[1;33m\n",
       "\u001b[0m                \u001b[1;32mif\u001b[0m \u001b[1;33m(\u001b[0m\u001b[0miSub\u001b[0m \u001b[1;33m==\u001b[0m \u001b[1;36m0\u001b[0m\u001b[1;33m)\u001b[0m \u001b[1;33m&\u001b[0m \u001b[1;33m(\u001b[0m\u001b[0miTrl\u001b[0m \u001b[1;33m==\u001b[0m \u001b[1;36m0\u001b[0m\u001b[1;33m)\u001b[0m \u001b[1;33m&\u001b[0m \u001b[1;33m(\u001b[0m\u001b[1;34m'behav'\u001b[0m \u001b[1;32min\u001b[0m \u001b[0mhFile\u001b[0m\u001b[1;33m)\u001b[0m\u001b[1;33m:\u001b[0m\u001b[1;33m\n",
       "\u001b[0m                    \u001b[1;32mdel\u001b[0m \u001b[0mhFile\u001b[0m\u001b[1;33m[\u001b[0m\u001b[1;34m'behav'\u001b[0m\u001b[1;33m]\u001b[0m\u001b[1;33m\n",
       "\u001b[0m                \u001b[1;32mfor\u001b[0m \u001b[0mkey\u001b[0m \u001b[1;32min\u001b[0m \u001b[0mkeys\u001b[0m\u001b[1;33m:\u001b[0m\u001b[1;33m\n",
       "\u001b[0m                    \u001b[0mkeyName\u001b[0m \u001b[1;33m=\u001b[0m \u001b[1;34mf'behav/{key}'\u001b[0m\u001b[1;33m\n",
       "\u001b[0m                    \u001b[0mval\u001b[0m \u001b[1;33m=\u001b[0m \u001b[0mout\u001b[0m\u001b[1;33m[\u001b[0m\u001b[0mkey\u001b[0m\u001b[1;33m]\u001b[0m\u001b[1;33m\n",
       "\u001b[0m                    \u001b[0mhFile\u001b[0m \u001b[1;33m=\u001b[0m \u001b[0mhdf\u001b[0m\u001b[1;33m.\u001b[0m\u001b[0mcreateOrAppendToHdf\u001b[0m\u001b[1;33m(\u001b[0m\u001b[0mhFile\u001b[0m\u001b[1;33m,\u001b[0m \u001b[0mkeyName\u001b[0m\u001b[1;33m,\u001b[0m \u001b[0mval\u001b[0m\u001b[1;33m)\u001b[0m\u001b[1;33m\n",
       "\u001b[0m        \u001b[0mhFile\u001b[0m\u001b[1;33m.\u001b[0m\u001b[0mcreate_dataset\u001b[0m\u001b[1;33m(\u001b[0m\u001b[1;34m'behav/stimLoc'\u001b[0m\u001b[1;33m,\u001b[0m \u001b[0mdata\u001b[0m\u001b[1;33m=\u001b[0m\u001b[0mutil\u001b[0m\u001b[1;33m.\u001b[0m\u001b[0mto_ascii\u001b[0m\u001b[1;33m(\u001b[0m\u001b[0mstimLoc\u001b[0m\u001b[1;33m)\u001b[0m\u001b[1;33m)\u001b[0m\u001b[1;33m\n",
       "\u001b[0m    \u001b[1;32mreturn\u001b[0m \u001b[0mhFilePath\u001b[0m\u001b[1;33m\u001b[0m\u001b[1;33m\u001b[0m\u001b[0m\n",
       "\u001b[1;31mFile:\u001b[0m      \\\\dm11\\koyamalab\\code\\python\\code\\apcode\\behavior\\headfixed.py\n",
       "\u001b[1;31mType:\u001b[0m      function\n"
      ]
     },
     "metadata": {},
     "output_type": "display_data"
    }
   ],
   "source": [
    "hf.extractAndStoreBehaviorData_singleFish??"
   ]
  },
  {
   "cell_type": "code",
   "execution_count": null,
   "metadata": {},
   "outputs": [],
   "source": []
  }
 ],
 "metadata": {
  "kernelspec": {
   "display_name": "Python 3",
   "language": "python",
   "name": "python3"
  },
  "language_info": {
   "codemirror_mode": {
    "name": "ipython",
    "version": 3
   },
   "file_extension": ".py",
   "mimetype": "text/x-python",
   "name": "python",
   "nbconvert_exporter": "python",
   "pygments_lexer": "ipython3",
   "version": "3.6.10"
  }
 },
 "nbformat": 4,
 "nbformat_minor": 4
}
